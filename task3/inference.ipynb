{
 "cells": [
  {
   "cell_type": "code",
   "execution_count": 9,
   "id": "c6ee843e-e63a-461a-9214-9199df68d5dc",
   "metadata": {},
   "outputs": [],
   "source": [
    "import os\n",
    "from threading import Thread\n",
    "import sys\n",
    "import time\n",
    "import cv2\n",
    "import numpy\n",
    "import argparse\n",
    "import math\n",
    "from glob import glob\n",
    "import numpy as np\n",
    "import json\n",
    "import torch\n",
    "from PIL import Image, ImageDraw, ImageFont\n",
    "import matplotlib.pyplot as plt\n",
    "import matplotlib.image as mpimg\n",
    "from tqdm import tqdm\n",
    "\n",
    "from task3_utils import match_pairs, MatchImageSizeTo,ocr"
   ]
  },
  {
   "cell_type": "code",
   "execution_count": 2,
   "id": "e8f12ed4-4860-4d86-8bed-8ce5c22fe03f",
   "metadata": {},
   "outputs": [],
   "source": [
    "import os    \n",
    "os.environ['KMP_DUPLICATE_LIB_OK']='True'"
   ]
  },
  {
   "cell_type": "code",
   "execution_count": 3,
   "id": "8d9327f5-ab92-47a0-9ccd-c7a5f3373308",
   "metadata": {},
   "outputs": [
    {
     "name": "stdout",
     "output_type": "stream",
     "text": [
      "(222, 1024, 1024, 3)\n"
     ]
    }
   ],
   "source": [
    "## Config\n",
    "img_path = '/hub_data2/drone_2021sample/set05_drone01_30'\n",
    "annotation_path = img_path + '_annotation'\n",
    "\n",
    "## Data Load\n",
    "img_list = glob(os.path.join(img_path, \"*.png\"))\n",
    "img_list.sort()\n",
    "\n",
    "img = []\n",
    "for image in img_list:\n",
    "    img.append(cv2.imread(image))\n",
    "    \n",
    "## Data prepare\n",
    "img = np.stack(img, axis = 0)\n",
    "print(img.shape)"
   ]
  },
  {
   "cell_type": "code",
   "execution_count": 17,
   "id": "895ce8b2-005f-427e-8343-157e71f10ad9",
   "metadata": {},
   "outputs": [],
   "source": [
    "# %matplotlib inline\n",
    "\n",
    "\n",
    "# img = Image.fromarray(img[0], 'RGB')"
   ]
  },
  {
   "cell_type": "markdown",
   "id": "beff7936-16f2-4151-a98e-3145a4ecf5ae",
   "metadata": {},
   "source": [
    "### OCR Inference"
   ]
  },
  {
   "cell_type": "code",
   "execution_count": 18,
   "id": "92e1ffd2-d7ba-4e83-83c5-9d77d5ec89b6",
   "metadata": {
    "tags": []
   },
   "outputs": [
    {
     "name": "stderr",
     "output_type": "stream",
     "text": [
      "  4%|▍         | 1/23 [00:04<01:36,  4.37s/it]\n"
     ]
    }
   ],
   "source": [
    "ocr_batch_size = 10\n",
    "\n",
    "#### 의미없 (구색맞추기위함) ####\n",
    "texts = [] \n",
    "text_idx = []\n",
    "############################\n",
    "\n",
    "torch.cuda.empty_cache()\n",
    "\n",
    "## start ocr ##\n",
    "results = []\n",
    "Iters = math.ceil(img.shape[0]/ocr_batch_size)\n",
    "\n",
    "with tqdm(total=Iters) as pbar:    \n",
    "    for i in range(Iters):\n",
    "        start = i * ocr_batch_size\n",
    "        \n",
    "        if i == Iters-1:\n",
    "            end = img.shape[0]\n",
    "        else:\n",
    "            end = (i+1)*ocr_batch_size\n",
    "\n",
    "        results.extend(ocr(img[start:end], start, np.array(range(0, img.shape[0])), texts, text_idx))\n",
    "        pbar.update(1)\n",
    "    \n",
    "        break\n",
    "torch.cuda.empty_cache()\n",
    "\n"
   ]
  },
  {
   "cell_type": "code",
   "execution_count": 20,
   "id": "7fbd9662-a694-431b-8b8e-d7e7a4349f1c",
   "metadata": {},
   "outputs": [
    {
     "data": {
      "text/plain": [
       "10"
      ]
     },
     "execution_count": 20,
     "metadata": {},
     "output_type": "execute_result"
    }
   ],
   "source": [
    "len(results)"
   ]
  },
  {
   "cell_type": "markdown",
   "id": "a7fde0be-41e0-46bb-9bd7-d789fc632579",
   "metadata": {},
   "source": [
    "### Metric"
   ]
  },
  {
   "cell_type": "code",
   "execution_count": 21,
   "id": "2c435dc8-0297-4fc3-a21b-9972f2abd1a9",
   "metadata": {},
   "outputs": [],
   "source": [
    "experiment_name = img_path.split('/')[-1]\n",
    "save_path = os.path.join('result',experiment_name)\n",
    "os.makedirs(save_path,exist_ok=True)"
   ]
  },
  {
   "cell_type": "code",
   "execution_count": 22,
   "id": "93d00e4d-f607-489f-ae1c-f463880d8eb6",
   "metadata": {},
   "outputs": [
    {
     "name": "stdout",
     "output_type": "stream",
     "text": [
      "result/set05_drone01_30\n"
     ]
    },
    {
     "ename": "IndexError",
     "evalue": "list index out of range",
     "output_type": "error",
     "traceback": [
      "\u001b[0;31m---------------------------------------------------------------------------\u001b[0m",
      "\u001b[0;31mIndexError\u001b[0m                                Traceback (most recent call last)",
      "\u001b[0;32m<ipython-input-22-2454c5ac79da>\u001b[0m in \u001b[0;36m<module>\u001b[0;34m\u001b[0m\n\u001b[1;32m     13\u001b[0m     \u001b[0moutput_results\u001b[0m\u001b[0;34m[\u001b[0m\u001b[0mframe_name\u001b[0m\u001b[0;34m]\u001b[0m\u001b[0;34m[\u001b[0m\u001b[0;34m'png_path'\u001b[0m\u001b[0;34m]\u001b[0m \u001b[0;34m=\u001b[0m \u001b[0mframe\u001b[0m \u001b[0;31m## png file path\u001b[0m\u001b[0;34m\u001b[0m\u001b[0;34m\u001b[0m\u001b[0m\n\u001b[1;32m     14\u001b[0m     \u001b[0;31m### pred ###\u001b[0m\u001b[0;34m\u001b[0m\u001b[0;34m\u001b[0m\u001b[0;34m\u001b[0m\u001b[0m\n\u001b[0;32m---> 15\u001b[0;31m     \u001b[0mpred_info\u001b[0m \u001b[0;34m=\u001b[0m \u001b[0mresults\u001b[0m\u001b[0;34m[\u001b[0m\u001b[0midx\u001b[0m\u001b[0;34m]\u001b[0m\u001b[0;34m\u001b[0m\u001b[0;34m\u001b[0m\u001b[0m\n\u001b[0m\u001b[1;32m     16\u001b[0m     \u001b[0mnum_pred\u001b[0m \u001b[0;34m=\u001b[0m \u001b[0mlen\u001b[0m\u001b[0;34m(\u001b[0m\u001b[0mpred_info\u001b[0m\u001b[0;34m)\u001b[0m\u001b[0;34m\u001b[0m\u001b[0;34m\u001b[0m\u001b[0m\n\u001b[1;32m     17\u001b[0m     \u001b[0moutput_results\u001b[0m\u001b[0;34m[\u001b[0m\u001b[0mframe_name\u001b[0m\u001b[0;34m]\u001b[0m\u001b[0;34m[\u001b[0m\u001b[0;34m'pred'\u001b[0m\u001b[0;34m]\u001b[0m \u001b[0;34m=\u001b[0m \u001b[0;34m{\u001b[0m\u001b[0;34m}\u001b[0m\u001b[0;34m\u001b[0m\u001b[0;34m\u001b[0m\u001b[0m\n",
      "\u001b[0;31mIndexError\u001b[0m: list index out of range"
     ]
    }
   ],
   "source": [
    "output_results = {}\n",
    "\n",
    "experiment_name = img_path.split('/')[-1]\n",
    "save_path = os.path.join('result',experiment_name)\n",
    "os.makedirs(save_path,exist_ok=True)\n",
    "print(save_path)\n",
    "\n",
    "for idx, frame in enumerate(img_list):\n",
    "    frame_name = frame.split('/')[-1].rstrip('.png') ### 'framexxx'\n",
    "    # print(frame_name)\n",
    "    \n",
    "    output_results[frame_name] = {}\n",
    "    output_results[frame_name]['png_path'] = frame ## png file path\n",
    "    ### pred ###\n",
    "    pred_info = results[idx]\n",
    "    num_pred = len(pred_info)\n",
    "    output_results[frame_name]['pred'] = {}\n",
    "    \n",
    "    for pred_idx in range(num_pred):\n",
    "        output_results[frame_name]['pred'][pred_idx] = {}\n",
    "        \n",
    "        box_parms = pred_info[pred_idx]['boxes']\n",
    "        text = pred_info[pred_idx]['text']\n",
    "        confident = pred_info[pred_idx]['confident']\n",
    "        \n",
    "        x_min = int(np.min(np.array(box_parms)[:,0]))\n",
    "        y_min = int(np.min(np.array(box_parms)[:,1]))\n",
    "        x_max = int(np.max(np.array(box_parms)[:,0]))\n",
    "        y_max = int(np.max(np.array(box_parms)[:,1]))\n",
    "        \n",
    "        ## 결과 정리\n",
    "        output_results[frame_name]['pred'][pred_idx]['text'] = text\n",
    "        output_results[frame_name]['pred'][pred_idx]['boxes'] = [x_min, y_min, x_max, y_max]\n",
    "        output_results[frame_name]['pred'][pred_idx]['confident'] = confident\n",
    "    \n",
    "    ### GT ###\n",
    "    output_results[frame_name]['gt'] = {}\n",
    "    json_path = os.path.join(annotation_path, frame_name +'.json')\n",
    "    \n",
    "    if os.path.exists(json_path):\n",
    "        with open(json_path, 'r') as f:\n",
    "            json_data = json.load(f)\n",
    "        \n",
    "        gt_info = json_data[0]['annotations']\n",
    "        num_gt = len(gt_info)\n",
    "        \n",
    "        for gt_idx in range(num_gt):\n",
    "            output_results[frame_name]['gt'][gt_idx] = {}\n",
    "            \n",
    "            text = gt_info[gt_idx]['label']\n",
    "            center_x = gt_info[gt_idx]['coordinates']['x']\n",
    "            center_y = gt_info[gt_idx]['coordinates']['y']\n",
    "            width = gt_info[gt_idx]['coordinates']['width']\n",
    "            hegiht = gt_info[gt_idx]['coordinates']['height']\n",
    "            \n",
    "            x_min = int(center_x - width/2)\n",
    "            y_min = int(center_y - hegiht/2)\n",
    "            x_max = int(center_x + width/2)\n",
    "            y_max = int(center_y + hegiht/2)\n",
    "            \n",
    "            ## 결과 정리\n",
    "            output_results[frame_name]['gt'][gt_idx]['text'] = text\n",
    "            output_results[frame_name]['gt'][gt_idx]['boxes'] = [x_min, y_min, x_max, y_max]\n",
    "\n",
    "            \n",
    "### Save result\n",
    "# with open(os.path.join(save_path, 'result.json'), \"w\") as json_file:\n",
    "#     json.dump(output_results, json_file)\n"
   ]
  },
  {
   "cell_type": "code",
   "execution_count": null,
   "id": "e6f2bb53-0fe7-4c6f-a867-20b9edbcdbb6",
   "metadata": {},
   "outputs": [],
   "source": []
  },
  {
   "cell_type": "code",
   "execution_count": null,
   "id": "0c78d898-9003-4f65-8fee-941c8f8f63cb",
   "metadata": {},
   "outputs": [],
   "source": []
  },
  {
   "cell_type": "markdown",
   "id": "969526a9-ffb3-4e6f-8797-544265339cdd",
   "metadata": {},
   "source": [
    "### Visualization"
   ]
  },
  {
   "cell_type": "code",
   "execution_count": 25,
   "id": "6ee932e8-4744-42e3-a031-690874c0030d",
   "metadata": {},
   "outputs": [],
   "source": [
    "experiment_name = 'set03_drone01_30_tmp'\n",
    "\n",
    "\n",
    "save_path = os.path.join('result',experiment_name,'result.json')\n",
    "with open(save_path, 'r') as f:\n",
    "    output_json = json.load(f)"
   ]
  },
  {
   "cell_type": "code",
   "execution_count": 27,
   "id": "246704d2-2c10-49dc-a960-35b66de026cf",
   "metadata": {},
   "outputs": [
    {
     "ename": "OSError",
     "evalue": "cannot open resource",
     "output_type": "error",
     "traceback": [
      "\u001b[0;31m---------------------------------------------------------------------------\u001b[0m",
      "\u001b[0;31mOSError\u001b[0m                                   Traceback (most recent call last)",
      "\u001b[0;32m<ipython-input-27-7e11df08aefe>\u001b[0m in \u001b[0;36m<module>\u001b[0;34m\u001b[0m\n\u001b[0;32m----> 1\u001b[0;31m \u001b[0mfont_type\u001b[0m \u001b[0;34m=\u001b[0m \u001b[0mImageFont\u001b[0m\u001b[0;34m.\u001b[0m\u001b[0mtruetype\u001b[0m\u001b[0;34m(\u001b[0m\u001b[0;34m\"./arial.ttf\"\u001b[0m\u001b[0;34m,\u001b[0m \u001b[0;36m18\u001b[0m\u001b[0;34m)\u001b[0m\u001b[0;34m\u001b[0m\u001b[0;34m\u001b[0m\u001b[0m\n\u001b[0m",
      "\u001b[0;32m~/.conda/envs/task3_new/lib/python3.6/site-packages/PIL/ImageFont.py\u001b[0m in \u001b[0;36mtruetype\u001b[0;34m(font, size, index, encoding, layout_engine)\u001b[0m\n\u001b[1;32m    851\u001b[0m \u001b[0;34m\u001b[0m\u001b[0m\n\u001b[1;32m    852\u001b[0m     \u001b[0;32mtry\u001b[0m\u001b[0;34m:\u001b[0m\u001b[0;34m\u001b[0m\u001b[0;34m\u001b[0m\u001b[0m\n\u001b[0;32m--> 853\u001b[0;31m         \u001b[0;32mreturn\u001b[0m \u001b[0mfreetype\u001b[0m\u001b[0;34m(\u001b[0m\u001b[0mfont\u001b[0m\u001b[0;34m)\u001b[0m\u001b[0;34m\u001b[0m\u001b[0;34m\u001b[0m\u001b[0m\n\u001b[0m\u001b[1;32m    854\u001b[0m     \u001b[0;32mexcept\u001b[0m \u001b[0mOSError\u001b[0m\u001b[0;34m:\u001b[0m\u001b[0;34m\u001b[0m\u001b[0;34m\u001b[0m\u001b[0m\n\u001b[1;32m    855\u001b[0m         \u001b[0;32mif\u001b[0m \u001b[0;32mnot\u001b[0m \u001b[0misPath\u001b[0m\u001b[0;34m(\u001b[0m\u001b[0mfont\u001b[0m\u001b[0;34m)\u001b[0m\u001b[0;34m:\u001b[0m\u001b[0;34m\u001b[0m\u001b[0;34m\u001b[0m\u001b[0m\n",
      "\u001b[0;32m~/.conda/envs/task3_new/lib/python3.6/site-packages/PIL/ImageFont.py\u001b[0m in \u001b[0;36mfreetype\u001b[0;34m(font)\u001b[0m\n\u001b[1;32m    848\u001b[0m \u001b[0;34m\u001b[0m\u001b[0m\n\u001b[1;32m    849\u001b[0m     \u001b[0;32mdef\u001b[0m \u001b[0mfreetype\u001b[0m\u001b[0;34m(\u001b[0m\u001b[0mfont\u001b[0m\u001b[0;34m)\u001b[0m\u001b[0;34m:\u001b[0m\u001b[0;34m\u001b[0m\u001b[0;34m\u001b[0m\u001b[0m\n\u001b[0;32m--> 850\u001b[0;31m         \u001b[0;32mreturn\u001b[0m \u001b[0mFreeTypeFont\u001b[0m\u001b[0;34m(\u001b[0m\u001b[0mfont\u001b[0m\u001b[0;34m,\u001b[0m \u001b[0msize\u001b[0m\u001b[0;34m,\u001b[0m \u001b[0mindex\u001b[0m\u001b[0;34m,\u001b[0m \u001b[0mencoding\u001b[0m\u001b[0;34m,\u001b[0m \u001b[0mlayout_engine\u001b[0m\u001b[0;34m)\u001b[0m\u001b[0;34m\u001b[0m\u001b[0;34m\u001b[0m\u001b[0m\n\u001b[0m\u001b[1;32m    851\u001b[0m \u001b[0;34m\u001b[0m\u001b[0m\n\u001b[1;32m    852\u001b[0m     \u001b[0;32mtry\u001b[0m\u001b[0;34m:\u001b[0m\u001b[0;34m\u001b[0m\u001b[0;34m\u001b[0m\u001b[0m\n",
      "\u001b[0;32m~/.conda/envs/task3_new/lib/python3.6/site-packages/PIL/ImageFont.py\u001b[0m in \u001b[0;36m__init__\u001b[0;34m(self, font, size, index, encoding, layout_engine)\u001b[0m\n\u001b[1;32m    208\u001b[0m                     \u001b[0;32mreturn\u001b[0m\u001b[0;34m\u001b[0m\u001b[0;34m\u001b[0m\u001b[0m\n\u001b[1;32m    209\u001b[0m             self.font = core.getfont(\n\u001b[0;32m--> 210\u001b[0;31m                 \u001b[0mfont\u001b[0m\u001b[0;34m,\u001b[0m \u001b[0msize\u001b[0m\u001b[0;34m,\u001b[0m \u001b[0mindex\u001b[0m\u001b[0;34m,\u001b[0m \u001b[0mencoding\u001b[0m\u001b[0;34m,\u001b[0m \u001b[0mlayout_engine\u001b[0m\u001b[0;34m=\u001b[0m\u001b[0mlayout_engine\u001b[0m\u001b[0;34m\u001b[0m\u001b[0;34m\u001b[0m\u001b[0m\n\u001b[0m\u001b[1;32m    211\u001b[0m             )\n\u001b[1;32m    212\u001b[0m         \u001b[0;32melse\u001b[0m\u001b[0;34m:\u001b[0m\u001b[0;34m\u001b[0m\u001b[0;34m\u001b[0m\u001b[0m\n",
      "\u001b[0;31mOSError\u001b[0m: cannot open resource"
     ]
    }
   ],
   "source": [
    "font_type = ImageFont.truetype(\"./arial.ttf\", 18)"
   ]
  },
  {
   "cell_type": "code",
   "execution_count": 18,
   "id": "79fdf0ce-fbfe-4ec6-bacc-4dbbfe990e1b",
   "metadata": {
    "tags": []
   },
   "outputs": [
    {
     "name": "stdout",
     "output_type": "stream",
     "text": [
      "--------- Pred (빨간색) ---------\n",
      "72외고준비반\n",
      "태위신애\n",
      "떠\n",
      "50대\n",
      "--------- GT (초록색) ---------\n",
      "302외고준비반\n"
     ]
    },
    {
     "ename": "UnicodeEncodeError",
     "evalue": "'latin-1' codec can't encode characters in position 3-7: ordinal not in range(256)",
     "output_type": "error",
     "traceback": [
      "\u001b[0;31m---------------------------------------------------------------------------\u001b[0m",
      "\u001b[0;31mAttributeError\u001b[0m                            Traceback (most recent call last)",
      "\u001b[0;32m~/.conda/envs/task3_new/lib/python3.6/site-packages/PIL/ImageDraw.py\u001b[0m in \u001b[0;36mdraw_text\u001b[0;34m(ink, stroke_width, stroke_offset)\u001b[0m\n\u001b[1;32m    413\u001b[0m             \u001b[0;32mtry\u001b[0m\u001b[0;34m:\u001b[0m\u001b[0;34m\u001b[0m\u001b[0;34m\u001b[0m\u001b[0m\n\u001b[0;32m--> 414\u001b[0;31m                 mask, offset = font.getmask2(\n\u001b[0m\u001b[1;32m    415\u001b[0m                     \u001b[0mtext\u001b[0m\u001b[0;34m,\u001b[0m\u001b[0;34m\u001b[0m\u001b[0;34m\u001b[0m\u001b[0m\n",
      "\u001b[0;31mAttributeError\u001b[0m: 'ImageFont' object has no attribute 'getmask2'",
      "\nDuring handling of the above exception, another exception occurred:\n",
      "\u001b[0;31mUnicodeEncodeError\u001b[0m                        Traceback (most recent call last)",
      "\u001b[0;32m<ipython-input-24-ab220789bf88>\u001b[0m in \u001b[0;36m<module>\u001b[0;34m\u001b[0m\n\u001b[1;32m     21\u001b[0m     \u001b[0mimg_PIL\u001b[0m \u001b[0;34m=\u001b[0m \u001b[0mImage\u001b[0m\u001b[0;34m.\u001b[0m\u001b[0mfromarray\u001b[0m\u001b[0;34m(\u001b[0m\u001b[0mimg\u001b[0m\u001b[0;34m)\u001b[0m\u001b[0;34m\u001b[0m\u001b[0;34m\u001b[0m\u001b[0m\n\u001b[1;32m     22\u001b[0m     \u001b[0mdraw\u001b[0m \u001b[0;34m=\u001b[0m \u001b[0mImageDraw\u001b[0m\u001b[0;34m.\u001b[0m\u001b[0mDraw\u001b[0m\u001b[0;34m(\u001b[0m\u001b[0mimg_PIL\u001b[0m\u001b[0;34m)\u001b[0m\u001b[0;34m\u001b[0m\u001b[0;34m\u001b[0m\u001b[0m\n\u001b[0;32m---> 23\u001b[0;31m     \u001b[0mdraw\u001b[0m\u001b[0;34m.\u001b[0m\u001b[0mtext\u001b[0m\u001b[0;34m(\u001b[0m\u001b[0;34m(\u001b[0m\u001b[0mboxes\u001b[0m\u001b[0;34m[\u001b[0m\u001b[0;36m0\u001b[0m\u001b[0;34m]\u001b[0m\u001b[0;34m,\u001b[0m \u001b[0mboxes\u001b[0m\u001b[0;34m[\u001b[0m\u001b[0;36m1\u001b[0m\u001b[0;34m]\u001b[0m\u001b[0;34m-\u001b[0m\u001b[0;36m10\u001b[0m\u001b[0;34m)\u001b[0m\u001b[0;34m,\u001b[0m \u001b[0mstr\u001b[0m\u001b[0;34m(\u001b[0m\u001b[0mgt\u001b[0m\u001b[0;34m[\u001b[0m\u001b[0;34m'text'\u001b[0m\u001b[0;34m]\u001b[0m\u001b[0;34m)\u001b[0m\u001b[0;34m,\u001b[0m \u001b[0mfill\u001b[0m\u001b[0;34m=\u001b[0m\u001b[0;34m(\u001b[0m\u001b[0;36m0\u001b[0m\u001b[0;34m,\u001b[0m\u001b[0;36m255\u001b[0m\u001b[0;34m,\u001b[0m\u001b[0;36m0\u001b[0m\u001b[0;34m)\u001b[0m\u001b[0;34m)\u001b[0m\u001b[0;34m\u001b[0m\u001b[0;34m\u001b[0m\u001b[0m\n\u001b[0m\u001b[1;32m     24\u001b[0m \u001b[0;34m\u001b[0m\u001b[0m\n\u001b[1;32m     25\u001b[0m     \u001b[0mcv2\u001b[0m\u001b[0;34m.\u001b[0m\u001b[0mrectangle\u001b[0m\u001b[0;34m(\u001b[0m\u001b[0mimg\u001b[0m\u001b[0;34m,\u001b[0m\u001b[0;34m(\u001b[0m\u001b[0mboxes\u001b[0m\u001b[0;34m[\u001b[0m\u001b[0;36m0\u001b[0m\u001b[0;34m]\u001b[0m\u001b[0;34m,\u001b[0m \u001b[0mboxes\u001b[0m\u001b[0;34m[\u001b[0m\u001b[0;36m1\u001b[0m\u001b[0;34m]\u001b[0m\u001b[0;34m)\u001b[0m\u001b[0;34m,\u001b[0m\u001b[0;34m(\u001b[0m\u001b[0mboxes\u001b[0m\u001b[0;34m[\u001b[0m\u001b[0;36m2\u001b[0m\u001b[0;34m]\u001b[0m\u001b[0;34m,\u001b[0m \u001b[0mboxes\u001b[0m\u001b[0;34m[\u001b[0m\u001b[0;36m3\u001b[0m\u001b[0;34m]\u001b[0m\u001b[0;34m)\u001b[0m\u001b[0;34m,\u001b[0m \u001b[0;34m(\u001b[0m\u001b[0;36m0\u001b[0m\u001b[0;34m,\u001b[0m \u001b[0;36m255\u001b[0m\u001b[0;34m,\u001b[0m \u001b[0;36m0\u001b[0m\u001b[0;34m)\u001b[0m\u001b[0;34m,\u001b[0m \u001b[0;36m2\u001b[0m\u001b[0;34m)\u001b[0m\u001b[0;34m\u001b[0m\u001b[0;34m\u001b[0m\u001b[0m\n",
      "\u001b[0;32m~/.conda/envs/task3_new/lib/python3.6/site-packages/PIL/ImageDraw.py\u001b[0m in \u001b[0;36mtext\u001b[0;34m(self, xy, text, fill, font, anchor, spacing, align, direction, features, language, stroke_width, stroke_fill, embedded_color, *args, **kwargs)\u001b[0m\n\u001b[1;32m    467\u001b[0m             \u001b[0;32melse\u001b[0m\u001b[0;34m:\u001b[0m\u001b[0;34m\u001b[0m\u001b[0;34m\u001b[0m\u001b[0m\n\u001b[1;32m    468\u001b[0m                 \u001b[0;31m# Only draw normal text\u001b[0m\u001b[0;34m\u001b[0m\u001b[0;34m\u001b[0m\u001b[0;34m\u001b[0m\u001b[0m\n\u001b[0;32m--> 469\u001b[0;31m                 \u001b[0mdraw_text\u001b[0m\u001b[0;34m(\u001b[0m\u001b[0mink\u001b[0m\u001b[0;34m)\u001b[0m\u001b[0;34m\u001b[0m\u001b[0;34m\u001b[0m\u001b[0m\n\u001b[0m\u001b[1;32m    470\u001b[0m \u001b[0;34m\u001b[0m\u001b[0m\n\u001b[1;32m    471\u001b[0m     def multiline_text(\n",
      "\u001b[0;32m~/.conda/envs/task3_new/lib/python3.6/site-packages/PIL/ImageDraw.py\u001b[0m in \u001b[0;36mdraw_text\u001b[0;34m(ink, stroke_width, stroke_offset)\u001b[0m\n\u001b[1;32m    437\u001b[0m                         \u001b[0mink\u001b[0m\u001b[0;34m,\u001b[0m\u001b[0;34m\u001b[0m\u001b[0;34m\u001b[0m\u001b[0m\n\u001b[1;32m    438\u001b[0m                         \u001b[0;34m*\u001b[0m\u001b[0margs\u001b[0m\u001b[0;34m,\u001b[0m\u001b[0;34m\u001b[0m\u001b[0;34m\u001b[0m\u001b[0m\n\u001b[0;32m--> 439\u001b[0;31m                         \u001b[0;34m**\u001b[0m\u001b[0mkwargs\u001b[0m\u001b[0;34m,\u001b[0m\u001b[0;34m\u001b[0m\u001b[0;34m\u001b[0m\u001b[0m\n\u001b[0m\u001b[1;32m    440\u001b[0m                     )\n\u001b[1;32m    441\u001b[0m                 \u001b[0;32mexcept\u001b[0m \u001b[0mTypeError\u001b[0m\u001b[0;34m:\u001b[0m\u001b[0;34m\u001b[0m\u001b[0;34m\u001b[0m\u001b[0m\n",
      "\u001b[0;32m~/.conda/envs/task3_new/lib/python3.6/site-packages/PIL/ImageFont.py\u001b[0m in \u001b[0;36mgetmask\u001b[0;34m(self, text, mode, *args, **kwargs)\u001b[0m\n\u001b[1;32m    147\u001b[0m                  \u001b[0;34m:\u001b[0m\u001b[0mpy\u001b[0m\u001b[0;34m:\u001b[0m\u001b[0mmod\u001b[0m\u001b[0;34m:\u001b[0m\u001b[0;31m`\u001b[0m\u001b[0mPIL\u001b[0m\u001b[0;34m.\u001b[0m\u001b[0mImage\u001b[0m\u001b[0;34m.\u001b[0m\u001b[0mcore\u001b[0m\u001b[0;31m`\u001b[0m \u001b[0minterface\u001b[0m \u001b[0mmodule\u001b[0m\u001b[0;34m.\u001b[0m\u001b[0;34m\u001b[0m\u001b[0;34m\u001b[0m\u001b[0m\n\u001b[1;32m    148\u001b[0m         \"\"\"\n\u001b[0;32m--> 149\u001b[0;31m         \u001b[0;32mreturn\u001b[0m \u001b[0mself\u001b[0m\u001b[0;34m.\u001b[0m\u001b[0mfont\u001b[0m\u001b[0;34m.\u001b[0m\u001b[0mgetmask\u001b[0m\u001b[0;34m(\u001b[0m\u001b[0mtext\u001b[0m\u001b[0;34m,\u001b[0m \u001b[0mmode\u001b[0m\u001b[0;34m)\u001b[0m\u001b[0;34m\u001b[0m\u001b[0;34m\u001b[0m\u001b[0m\n\u001b[0m\u001b[1;32m    150\u001b[0m \u001b[0;34m\u001b[0m\u001b[0m\n\u001b[1;32m    151\u001b[0m \u001b[0;34m\u001b[0m\u001b[0m\n",
      "\u001b[0;31mUnicodeEncodeError\u001b[0m: 'latin-1' codec can't encode characters in position 3-7: ordinal not in range(256)"
     ]
    },
    {
     "data": {
      "text/plain": [
       "<Figure size 1080x1080 with 0 Axes>"
      ]
     },
     "metadata": {},
     "output_type": "display_data"
    }
   ],
   "source": [
    "frame = 'frame030'\n",
    "frame_dict = output_json[frame]\n",
    "png_path = frame_dict['png_path']\n",
    "\n",
    "%matplotlib inline\n",
    "plt.figure(figsize=(15,15))\n",
    "img = cv2.imread(png_path)\n",
    "\n",
    "print(\"--------- Pred (빨간색) ---------\")\n",
    "for pred in frame_dict['pred'].values():\n",
    "    print(pred['text'])\n",
    "    boxes = pred['boxes']\n",
    "    cv2.rectangle(img,(boxes[0], boxes[1]),(boxes[2], boxes[3]), (255, 0 , 0), 2)\n",
    "    cv2.putText(img[0], pred['text'], (boxes[0], boxes[1]-10), cv2.FONT_HERSHEY_SIMPLEX, 1, (0, 255, 0), 2)\n",
    "\n",
    "print(\"--------- GT (초록색) ---------\")\n",
    "for gt in frame_dict['gt'].values():\n",
    "    print(gt['text'])\n",
    "    boxes = gt['boxes']\n",
    "    \n",
    "    img_PIL = Image.fromarray(img)\n",
    "    draw = ImageDraw.Draw(img_PIL)\n",
    "    draw.text((boxes[0], boxes[1]-10), str(gt['text']), font=font_type, fill=(0,255,0))\n",
    "    \n",
    "    cv2.rectangle(img,(boxes[0], boxes[1]),(boxes[2], boxes[3]), (0, 255, 0), 2)\n",
    "    \n",
    "plt.imshow(img)\n",
    "# cv2.show()"
   ]
  },
  {
   "cell_type": "code",
   "execution_count": null,
   "id": "8ddd95d8-583e-4a21-a252-2434436c3263",
   "metadata": {},
   "outputs": [],
   "source": []
  },
  {
   "cell_type": "code",
   "execution_count": 8,
   "id": "25c72c10-4da1-4c9f-b641-090cbee315ef",
   "metadata": {},
   "outputs": [
    {
     "data": {
      "text/plain": [
       "(1024, 3)"
      ]
     },
     "execution_count": 8,
     "metadata": {},
     "output_type": "execute_result"
    }
   ],
   "source": [
    "img[0].shape"
   ]
  },
  {
   "cell_type": "code",
   "execution_count": 9,
   "id": "b8361512-2b34-4c2c-8a28-b0b05b511227",
   "metadata": {},
   "outputs": [],
   "source": [
    "from task3 import Task3"
   ]
  },
  {
   "cell_type": "code",
   "execution_count": 10,
   "id": "b229596e-7eb0-4182-a374-c87d74fc2b12",
   "metadata": {},
   "outputs": [],
   "source": [
    "task3 = Task3()\n"
   ]
  },
  {
   "cell_type": "code",
   "execution_count": null,
   "id": "e522f865-4b2a-4665-b166-76e9dd88c30e",
   "metadata": {},
   "outputs": [],
   "source": [
    "# plt.figure(figsize=(15,15))\n",
    "task3(img[30])"
   ]
  },
  {
   "cell_type": "code",
   "execution_count": null,
   "id": "b03eb56c-5d90-4b5a-83f6-5e763ee9e675",
   "metadata": {},
   "outputs": [],
   "source": []
  }
 ],
 "metadata": {
  "kernelspec": {
   "display_name": "Python 3",
   "language": "python",
   "name": "python3"
  },
  "language_info": {
   "codemirror_mode": {
    "name": "ipython",
    "version": 3
   },
   "file_extension": ".py",
   "mimetype": "text/x-python",
   "name": "python",
   "nbconvert_exporter": "python",
   "pygments_lexer": "ipython3",
   "version": "3.6.13"
  }
 },
 "nbformat": 4,
 "nbformat_minor": 5
}
